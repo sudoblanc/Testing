{
  "nbformat": 4,
  "nbformat_minor": 0,
  "metadata": {
    "colab": {
      "provenance": [],
      "authorship_tag": "ABX9TyNFu8F8ErMn2AKDEAW6KH9G",
      "include_colab_link": true
    },
    "kernelspec": {
      "name": "python3",
      "display_name": "Python 3"
    },
    "language_info": {
      "name": "python"
    }
  },
  "cells": [
    {
      "cell_type": "markdown",
      "metadata": {
        "id": "view-in-github",
        "colab_type": "text"
      },
      "source": [
        "<a href=\"https://colab.research.google.com/github/sudoblanc/Testing/blob/main/expensehive.ipynb\" target=\"_parent\"><img src=\"https://colab.research.google.com/assets/colab-badge.svg\" alt=\"Open In Colab\"/></a>"
      ]
    },
    {
      "cell_type": "code",
      "execution_count": null,
      "metadata": {
        "id": "3kUR1tQsc-34",
        "colab": {
          "base_uri": "https://localhost:8080/"
        },
        "outputId": "3ca0321d-e47c-42aa-fe7f-198a5502b0e9"
      },
      "outputs": [
        {
          "output_type": "stream",
          "name": "stdout",
          "text": [
            "*------------------------------*\n",
            "   WELCOME TO EXPENSE HIVE      \n",
            "Choose one of the task that you would like to do: \n",
            "Enter 1. Enter Expense: \n",
            "Enter 2. Display saved expenses: \n",
            "Enter 3. Expense chart: \n",
            "Enter you choice(1 or 2 or 3):1\n",
            "Enter your monthly budget: 50\n",
            "Expense Name: candy\n",
            "Expense Cost: 20\n",
            "Expense Date(mm/dd/yy): 11/22/2022\n",
            "Do you want to save the expense ?(y/n): y\n",
            "Your expense has been saved\n"
          ]
        }
      ],
      "source": [
        "import pandas as pd\n",
        "import matplotlib.pyplot as plt\n",
        "\n",
        "expenses = []\n",
        "user_expense_cost = []\n",
        "user_expense_dates = []\n",
        "total_expesnses = []\n",
        "\n",
        "#function section starts\n",
        "def user_pref():\n",
        "    user_choice = int(input(\"Enter you choice(1 or 2 or 3):\"))\n",
        "    return user_choice\n",
        "    #make a promp to declare a monthly budget and create a graph as you enter\n",
        "\n",
        "#function section ends\n",
        "\n",
        "print(\"*------------------------------*\")\n",
        "print(\"   WELCOME TO EXPENSE HIVE      \")\n",
        "print(\"Choose one of the task that you would like to do: \")\n",
        "print(\"Enter 1. Enter Expense: \")\n",
        "print(\"Enter 2. Display saved expenses: \")\n",
        "print(\"Enter 3. Expense chart: \")\n",
        "user_choice = int(input(\"Enter you choice(1 or 2 or 3):\"))\n",
        "\n",
        "if user_choice == 1:\n",
        "    user_budget = int(input('Enter your monthly budget: '))\n",
        "    #appending user input starts\n",
        "    expense_name = str(input('Expense Name: '))   \n",
        "    expenses.append(expense_name)\n",
        "\n",
        "    expense_cost = str(input('Expense Cost: '))\n",
        "    user_expense_cost.append(expense_cost)\n",
        "\n",
        "    expense_date = str(input('Expense Date(mm/dd/yy): '))\n",
        "    user_expense_dates.append(expense_date)\n",
        "    #appending user input ends \n",
        "\n",
        "    save_expense = input(\"Do you want to save the expense ?(y/n): \")\n",
        "    if save_expense == 'y':\n",
        "        print(\"Your expense has been saved\")\n",
        "    elif save_expense == 'n':\n",
        "        print(\"Expense has not been saved\")\n",
        "    print(\"Do you want to Perform other tasks ?\")\n",
        "    print(\"Enter Y to Return to the MAIN MENU\")    \n",
        "    user_choice_aftersave = str(input(Enter Y or Q))    \n",
        "    user_pref()    \n",
        "\n",
        "elif user_choice == 2:\n",
        "    print(\"Here is your list of expenses\")\n",
        "    data = pd.DataFrame({\n",
        "        'name': ['rohan', 'ram', 'ted', 'mon', 'too'],\n",
        "        'expense number': [101, 123, 139, 112, 133],\n",
        "        'expense date': [11, 12, 13, 11, 12],\n",
        "        'gender': ['M', 'F', 'F', 'M', 'M'],\n",
        "        'group': ['first', 'second', 'first', 'third', 'third'],\n",
        "        'math_score': [41.5, 43, 38, 47, 29.5]\n",
        "    })\n",
        "    print(data)\n",
        "elif user_choice == 3:\n",
        "    print(\"Here is your expense chart\")\n",
        "    #if user_budget =< 300:\n",
        "\n",
        "        # make a matplotlib bargraph to represent the type of expense that you spent on\n",
        "        #dev_x = [25, 26, 27, 28, 29]  # could use date to see the number of expense did on that day\n",
        "        #dev_y = [0, 50, 100, 200, 300]\n",
        "        # could be used as an empty list to create\n",
        "        # libarary automatically sorts the data so dont worry about appending differ\n",
        "        # ent amnt\n",
        "        #plt.plot(dev_x, dev_y)\n",
        "        #plt.show()\n",
        "    #elif user_budget <= 50:\n",
        "    dev_x = [25, 26, 27, 28, 29]\n",
        "    dev_y = [0, 15, 30, 45, 50]\n",
        "    plt.plot(dev_x, dev_y)\n",
        "    plt.show()\n",
        "#file with panda data that stores the data that user stored with command Y/n or\n",
        "#some commands\n",
        "\n"
      ]
    },
    {
      "cell_type": "code",
      "source": [],
      "metadata": {
        "id": "Y-34VbDSeo8h"
      },
      "execution_count": null,
      "outputs": []
    }
  ]
}