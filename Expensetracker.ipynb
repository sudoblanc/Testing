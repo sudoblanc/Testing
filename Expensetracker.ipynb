{
  "nbformat": 4,
  "nbformat_minor": 0,
  "metadata": {
    "colab": {
      "provenance": [],
      "authorship_tag": "ABX9TyNBGq0kuSahUPfdBig6h/AS",
      "include_colab_link": true
    },
    "kernelspec": {
      "name": "python3",
      "display_name": "Python 3"
    },
    "language_info": {
      "name": "python"
    }
  },
  "cells": [
    {
      "cell_type": "markdown",
      "metadata": {
        "id": "view-in-github",
        "colab_type": "text"
      },
      "source": [
        "<a href=\"https://colab.research.google.com/github/sudoblanc/Testing/blob/main/Expensetracker.ipynb\" target=\"_parent\"><img src=\"https://colab.research.google.com/assets/colab-badge.svg\" alt=\"Open In Colab\"/></a>"
      ]
    },
    {
      "cell_type": "code",
      "execution_count": 2,
      "metadata": {
        "id": "3kUR1tQsc-34",
        "colab": {
          "base_uri": "https://localhost:8080/"
        },
        "outputId": "2cefa13d-7650-4560-8335-627be9ba36a8"
      },
      "outputs": [
        {
          "output_type": "stream",
          "name": "stdout",
          "text": [
            "*------------------------------*\n",
            "   WELCOME TO EXPENSE HIVE      \n",
            "Choose one of the task that you would like to do: \n",
            "Enter 1. Enter Expense: \n",
            "Enter 2. Display saved expenses: \n",
            "Enter 3. Expense chart: \n",
            "Enter you choice(1 or 2 or 3):1\n",
            "Enter your monthly budget: 50\n",
            "Expense Name: uujh\n",
            "Expense Cost: 50\n",
            "Expense Date(mm/dd/yy): 11/22/2022\n",
            "Do you want to save the expense ?(y/n): y\n",
            "Your expense has been saved\n"
          ]
        }
      ],
      "source": [
        "import pandas as pd\n",
        "import matplotlib.pyplot as plt\n",
        "\n",
        "def user_pref(user_choice):\n",
        "    user_choice = int(input(\"Enter you choice(1 or 2 or 3):\"))\n",
        "    \n",
        "\n",
        "\n",
        "\n",
        "        #make a promp to declare a monthly budget and create a graph as you enter the budget\n",
        "print(\"*------------------------------*\")\n",
        "print(\"   WELCOME TO EXPENSE HIVE      \")\n",
        "print(\"Choose one of the task that you would like to do: \")\n",
        "print(\"Enter 1. Enter Expense: \")\n",
        "print(\"Enter 2. Display saved expenses: \")\n",
        "print(\"Enter 3. Expense chart: \")\n",
        "user_choice = int(input(\"Enter you choice(1 or 2 or 3):\"))\n",
        "if user_choice == 1:\n",
        "    user_budget = int(input('Enter your monthly budget: '))\n",
        "    expense_name = str(input('Expense Name: '))\n",
        "    expense_cost = str(input('Expense Cost: '))\n",
        "    expense_date = str(input('Expense Date(mm/dd/yy): '))\n",
        "    save_expense = input(\"Do you want to save the expense ?(y/n): \")\n",
        "    if save_expense == 'y':\n",
        "        print(\"Your expense has been saved\")\n",
        "    elif save_expense == 'n':\n",
        "        print(\"Expense has not been saved\")\n",
        "elif user_choice == 2:\n",
        "    print(\"Here is your list of expenses\")\n",
        "    data = pd.DataFrame({\n",
        "        'name': ['rohan', 'ram', 'ted', 'mon', 'too'],\n",
        "        'expense number': [101, 123, 139, 112, 133],\n",
        "        'expense date': [11, 12, 13, 11, 12],\n",
        "        'gender': ['M', 'F', 'F', 'M', 'M'],\n",
        "        'group': ['first', 'second', 'first', 'third', 'third'],\n",
        "        'math_score': [41.5, 43, 38, 47, 29.5]\n",
        "    })\n",
        "    print(data)\n",
        "elif user_choice == 3:\n",
        "    print(\"Here is your expense chart\")\n",
        "    #if user_budget =< 300:\n",
        "\n",
        "        # make a matplotlib bargraph to represent the type of expense that you spent on\n",
        "        #dev_x = [25, 26, 27, 28, 29]  # could use date to see the number of expense did on that day\n",
        "        #dev_y = [0, 50, 100, 200, 300]\n",
        "        # could be used as an empty list to create\n",
        "        # libarary automatically sorts the data so dont worry about appending differ\n",
        "        # ent amnt\n",
        "        #plt.plot(dev_x, dev_y)\n",
        "        #plt.show()\n",
        "    #elif user_budget <= 50:\n",
        "    dev_x = [25, 26, 27, 28, 29]\n",
        "    dev_y = [0, 15, 30, 45, 50]\n",
        "    plt.plot(dev_x, dev_y)\n",
        "    plt.show()\n",
        "\n",
        "\n",
        "\n",
        "\n",
        "\n",
        "\n",
        "\n",
        "\n",
        "#file with panda data that stores the data that user stored with command Y/n or\n",
        "#some commands\n",
        "\n",
        "#this field can be used to make a plot of the monthly expense to track the user expense data.\n"
      ]
    },
    {
      "cell_type": "code",
      "source": [],
      "metadata": {
        "id": "Y-34VbDSeo8h"
      },
      "execution_count": null,
      "outputs": []
    }
  ]
}